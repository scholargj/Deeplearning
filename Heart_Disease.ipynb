{
  "nbformat": 4,
  "nbformat_minor": 0,
  "metadata": {
    "colab": {
      "name": "Heart_Disease.ipynb",
      "provenance": [],
      "include_colab_link": true
    },
    "kernelspec": {
      "name": "python3",
      "display_name": "Python 3"
    }
  },
  "cells": [
    {
      "cell_type": "markdown",
      "metadata": {
        "id": "view-in-github",
        "colab_type": "text"
      },
      "source": [
        "<a href=\"https://colab.research.google.com/github/scholargj/Deeplearning/blob/master/Heart_Disease.ipynb\" target=\"_parent\"><img src=\"https://colab.research.google.com/assets/colab-badge.svg\" alt=\"Open In Colab\"/></a>"
      ]
    },
    {
      "cell_type": "code",
      "metadata": {
        "id": "c8NgoXJDI3xD"
      },
      "source": [
        ""
      ],
      "execution_count": null,
      "outputs": []
    },
    {
      "cell_type": "markdown",
      "metadata": {
        "id": "Kw8E2KOjJaZX"
      },
      "source": [
        "#Heart Disease Prediction"
      ]
    },
    {
      "cell_type": "code",
      "metadata": {
        "id": "izrbZkriLZHE"
      },
      "source": [
        "import matplotlib.pyplot as plt\n",
        "import pandas as pd\n",
        "import numpy as np\n",
        "from sklearn.metrics import accuracy_score"
      ],
      "execution_count": null,
      "outputs": []
    },
    {
      "cell_type": "code",
      "metadata": {
        "id": "T27vE918AYui",
        "colab": {
          "resources": {
            "http://localhost:8080/nbextensions/google.colab/files.js": {
              "data": "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",
              "ok": true,
              "headers": [
                [
                  "content-type",
                  "application/javascript"
                ]
              ],
              "status": 200,
              "status_text": ""
            }
          },
          "base_uri": "https://localhost:8080/",
          "height": 93
        },
        "outputId": "8e709a4a-c956-4216-9af6-898f57caaeb0"
      },
      "source": [
        "from google.colab import files\n",
        "\n",
        "uploaded = files.upload()\n",
        "\n",
        "for fn in uploaded.keys():\n",
        "  print('User uploaded file \"{name}\" with length {length} bytes'.format(\n",
        "      name=fn, length=len(uploaded[fn])))"
      ],
      "execution_count": null,
      "outputs": [
        {
          "output_type": "display_data",
          "data": {
            "text/html": [
              "\n",
              "     <input type=\"file\" id=\"files-4cd41768-8546-4cb8-8da6-718a7f0ccc83\" name=\"files[]\" multiple disabled />\n",
              "     <output id=\"result-4cd41768-8546-4cb8-8da6-718a7f0ccc83\">\n",
              "      Upload widget is only available when the cell has been executed in the\n",
              "      current browser session. Please rerun this cell to enable.\n",
              "      </output>\n",
              "      <script src=\"/nbextensions/google.colab/files.js\"></script> "
            ],
            "text/plain": [
              "<IPython.core.display.HTML object>"
            ]
          },
          "metadata": {
            "tags": []
          }
        },
        {
          "output_type": "stream",
          "text": [
            "Saving heart.csv to heart (1).csv\n",
            "User uploaded file \"heart.csv\" with length 11328 bytes\n"
          ],
          "name": "stdout"
        }
      ]
    },
    {
      "cell_type": "code",
      "metadata": {
        "id": "2b5Q_Vy9AbLw"
      },
      "source": [
        "file = pd.read_csv('heart.csv')"
      ],
      "execution_count": null,
      "outputs": []
    },
    {
      "cell_type": "code",
      "metadata": {
        "id": "AD2Qk4q4Ahfb",
        "colab": {
          "base_uri": "https://localhost:8080/",
          "height": 198
        },
        "outputId": "7c39b441-f60d-4b42-e5b1-99069c5c0aa7"
      },
      "source": [
        "file.head()"
      ],
      "execution_count": null,
      "outputs": [
        {
          "output_type": "execute_result",
          "data": {
            "text/html": [
              "<div>\n",
              "<style scoped>\n",
              "    .dataframe tbody tr th:only-of-type {\n",
              "        vertical-align: middle;\n",
              "    }\n",
              "\n",
              "    .dataframe tbody tr th {\n",
              "        vertical-align: top;\n",
              "    }\n",
              "\n",
              "    .dataframe thead th {\n",
              "        text-align: right;\n",
              "    }\n",
              "</style>\n",
              "<table border=\"1\" class=\"dataframe\">\n",
              "  <thead>\n",
              "    <tr style=\"text-align: right;\">\n",
              "      <th></th>\n",
              "      <th>age</th>\n",
              "      <th>sex</th>\n",
              "      <th>cp</th>\n",
              "      <th>trestbps</th>\n",
              "      <th>chol</th>\n",
              "      <th>fbs</th>\n",
              "      <th>restecg</th>\n",
              "      <th>thalach</th>\n",
              "      <th>exang</th>\n",
              "      <th>oldpeak</th>\n",
              "      <th>slope</th>\n",
              "      <th>ca</th>\n",
              "      <th>thal</th>\n",
              "      <th>target</th>\n",
              "    </tr>\n",
              "  </thead>\n",
              "  <tbody>\n",
              "    <tr>\n",
              "      <th>0</th>\n",
              "      <td>63</td>\n",
              "      <td>1</td>\n",
              "      <td>3</td>\n",
              "      <td>145</td>\n",
              "      <td>233</td>\n",
              "      <td>1</td>\n",
              "      <td>0</td>\n",
              "      <td>150</td>\n",
              "      <td>0</td>\n",
              "      <td>2.3</td>\n",
              "      <td>0</td>\n",
              "      <td>0</td>\n",
              "      <td>1</td>\n",
              "      <td>1</td>\n",
              "    </tr>\n",
              "    <tr>\n",
              "      <th>1</th>\n",
              "      <td>37</td>\n",
              "      <td>1</td>\n",
              "      <td>2</td>\n",
              "      <td>130</td>\n",
              "      <td>250</td>\n",
              "      <td>0</td>\n",
              "      <td>1</td>\n",
              "      <td>187</td>\n",
              "      <td>0</td>\n",
              "      <td>3.5</td>\n",
              "      <td>0</td>\n",
              "      <td>0</td>\n",
              "      <td>2</td>\n",
              "      <td>1</td>\n",
              "    </tr>\n",
              "    <tr>\n",
              "      <th>2</th>\n",
              "      <td>41</td>\n",
              "      <td>0</td>\n",
              "      <td>1</td>\n",
              "      <td>130</td>\n",
              "      <td>204</td>\n",
              "      <td>0</td>\n",
              "      <td>0</td>\n",
              "      <td>172</td>\n",
              "      <td>0</td>\n",
              "      <td>1.4</td>\n",
              "      <td>2</td>\n",
              "      <td>0</td>\n",
              "      <td>2</td>\n",
              "      <td>1</td>\n",
              "    </tr>\n",
              "    <tr>\n",
              "      <th>3</th>\n",
              "      <td>56</td>\n",
              "      <td>1</td>\n",
              "      <td>1</td>\n",
              "      <td>120</td>\n",
              "      <td>236</td>\n",
              "      <td>0</td>\n",
              "      <td>1</td>\n",
              "      <td>178</td>\n",
              "      <td>0</td>\n",
              "      <td>0.8</td>\n",
              "      <td>2</td>\n",
              "      <td>0</td>\n",
              "      <td>2</td>\n",
              "      <td>1</td>\n",
              "    </tr>\n",
              "    <tr>\n",
              "      <th>4</th>\n",
              "      <td>57</td>\n",
              "      <td>0</td>\n",
              "      <td>0</td>\n",
              "      <td>120</td>\n",
              "      <td>354</td>\n",
              "      <td>0</td>\n",
              "      <td>1</td>\n",
              "      <td>163</td>\n",
              "      <td>1</td>\n",
              "      <td>0.6</td>\n",
              "      <td>2</td>\n",
              "      <td>0</td>\n",
              "      <td>2</td>\n",
              "      <td>1</td>\n",
              "    </tr>\n",
              "  </tbody>\n",
              "</table>\n",
              "</div>"
            ],
            "text/plain": [
              "   age  sex  cp  trestbps  chol  fbs  restecg  thalach  exang  oldpeak  slope  \\\n",
              "0   63    1   3       145   233    1        0      150      0      2.3      0   \n",
              "1   37    1   2       130   250    0        1      187      0      3.5      0   \n",
              "2   41    0   1       130   204    0        0      172      0      1.4      2   \n",
              "3   56    1   1       120   236    0        1      178      0      0.8      2   \n",
              "4   57    0   0       120   354    0        1      163      1      0.6      2   \n",
              "\n",
              "   ca  thal  target  \n",
              "0   0     1       1  \n",
              "1   0     2       1  \n",
              "2   0     2       1  \n",
              "3   0     2       1  \n",
              "4   0     2       1  "
            ]
          },
          "metadata": {
            "tags": []
          },
          "execution_count": 4
        }
      ]
    },
    {
      "cell_type": "code",
      "metadata": {
        "id": "SmtHwnlUBXfo",
        "colab": {
          "base_uri": "https://localhost:8080/",
          "height": 35
        },
        "outputId": "78498362-9a49-4e2e-fe96-4ae3b629cc25"
      },
      "source": [
        "print(file.shape)"
      ],
      "execution_count": null,
      "outputs": [
        {
          "output_type": "stream",
          "text": [
            "(303, 14)\n"
          ],
          "name": "stdout"
        }
      ]
    },
    {
      "cell_type": "code",
      "metadata": {
        "id": "rSvZlvXOCaKM"
      },
      "source": [
        "X_train = file"
      ],
      "execution_count": null,
      "outputs": []
    },
    {
      "cell_type": "code",
      "metadata": {
        "id": "UBQ6gmYCFBUj",
        "colab": {
          "base_uri": "https://localhost:8080/",
          "height": 198
        },
        "outputId": "26087a95-9c84-46db-a9ff-e81d1a42b752"
      },
      "source": [
        "X_new_train = X_train.drop('target', axis = 1)\n",
        "Y_train = file['target']\n",
        "X_new_train.head()"
      ],
      "execution_count": null,
      "outputs": [
        {
          "output_type": "execute_result",
          "data": {
            "text/html": [
              "<div>\n",
              "<style scoped>\n",
              "    .dataframe tbody tr th:only-of-type {\n",
              "        vertical-align: middle;\n",
              "    }\n",
              "\n",
              "    .dataframe tbody tr th {\n",
              "        vertical-align: top;\n",
              "    }\n",
              "\n",
              "    .dataframe thead th {\n",
              "        text-align: right;\n",
              "    }\n",
              "</style>\n",
              "<table border=\"1\" class=\"dataframe\">\n",
              "  <thead>\n",
              "    <tr style=\"text-align: right;\">\n",
              "      <th></th>\n",
              "      <th>age</th>\n",
              "      <th>sex</th>\n",
              "      <th>cp</th>\n",
              "      <th>trestbps</th>\n",
              "      <th>chol</th>\n",
              "      <th>fbs</th>\n",
              "      <th>restecg</th>\n",
              "      <th>thalach</th>\n",
              "      <th>exang</th>\n",
              "      <th>oldpeak</th>\n",
              "      <th>slope</th>\n",
              "      <th>ca</th>\n",
              "      <th>thal</th>\n",
              "    </tr>\n",
              "  </thead>\n",
              "  <tbody>\n",
              "    <tr>\n",
              "      <th>0</th>\n",
              "      <td>63</td>\n",
              "      <td>1</td>\n",
              "      <td>3</td>\n",
              "      <td>145</td>\n",
              "      <td>233</td>\n",
              "      <td>1</td>\n",
              "      <td>0</td>\n",
              "      <td>150</td>\n",
              "      <td>0</td>\n",
              "      <td>2.3</td>\n",
              "      <td>0</td>\n",
              "      <td>0</td>\n",
              "      <td>1</td>\n",
              "    </tr>\n",
              "    <tr>\n",
              "      <th>1</th>\n",
              "      <td>37</td>\n",
              "      <td>1</td>\n",
              "      <td>2</td>\n",
              "      <td>130</td>\n",
              "      <td>250</td>\n",
              "      <td>0</td>\n",
              "      <td>1</td>\n",
              "      <td>187</td>\n",
              "      <td>0</td>\n",
              "      <td>3.5</td>\n",
              "      <td>0</td>\n",
              "      <td>0</td>\n",
              "      <td>2</td>\n",
              "    </tr>\n",
              "    <tr>\n",
              "      <th>2</th>\n",
              "      <td>41</td>\n",
              "      <td>0</td>\n",
              "      <td>1</td>\n",
              "      <td>130</td>\n",
              "      <td>204</td>\n",
              "      <td>0</td>\n",
              "      <td>0</td>\n",
              "      <td>172</td>\n",
              "      <td>0</td>\n",
              "      <td>1.4</td>\n",
              "      <td>2</td>\n",
              "      <td>0</td>\n",
              "      <td>2</td>\n",
              "    </tr>\n",
              "    <tr>\n",
              "      <th>3</th>\n",
              "      <td>56</td>\n",
              "      <td>1</td>\n",
              "      <td>1</td>\n",
              "      <td>120</td>\n",
              "      <td>236</td>\n",
              "      <td>0</td>\n",
              "      <td>1</td>\n",
              "      <td>178</td>\n",
              "      <td>0</td>\n",
              "      <td>0.8</td>\n",
              "      <td>2</td>\n",
              "      <td>0</td>\n",
              "      <td>2</td>\n",
              "    </tr>\n",
              "    <tr>\n",
              "      <th>4</th>\n",
              "      <td>57</td>\n",
              "      <td>0</td>\n",
              "      <td>0</td>\n",
              "      <td>120</td>\n",
              "      <td>354</td>\n",
              "      <td>0</td>\n",
              "      <td>1</td>\n",
              "      <td>163</td>\n",
              "      <td>1</td>\n",
              "      <td>0.6</td>\n",
              "      <td>2</td>\n",
              "      <td>0</td>\n",
              "      <td>2</td>\n",
              "    </tr>\n",
              "  </tbody>\n",
              "</table>\n",
              "</div>"
            ],
            "text/plain": [
              "   age  sex  cp  trestbps  chol  fbs  restecg  thalach  exang  oldpeak  slope  \\\n",
              "0   63    1   3       145   233    1        0      150      0      2.3      0   \n",
              "1   37    1   2       130   250    0        1      187      0      3.5      0   \n",
              "2   41    0   1       130   204    0        0      172      0      1.4      2   \n",
              "3   56    1   1       120   236    0        1      178      0      0.8      2   \n",
              "4   57    0   0       120   354    0        1      163      1      0.6      2   \n",
              "\n",
              "   ca  thal  \n",
              "0   0     1  \n",
              "1   0     2  \n",
              "2   0     2  \n",
              "3   0     2  \n",
              "4   0     2  "
            ]
          },
          "metadata": {
            "tags": []
          },
          "execution_count": 7
        }
      ]
    },
    {
      "cell_type": "code",
      "metadata": {
        "id": "aAzRSmoMqDe1",
        "colab": {
          "base_uri": "https://localhost:8080/",
          "height": 126
        },
        "outputId": "447f1955-0db1-433c-eaa7-a4de2d025529"
      },
      "source": [
        "Y_train.head()"
      ],
      "execution_count": null,
      "outputs": [
        {
          "output_type": "execute_result",
          "data": {
            "text/plain": [
              "0    1\n",
              "1    1\n",
              "2    1\n",
              "3    1\n",
              "4    1\n",
              "Name: target, dtype: int64"
            ]
          },
          "metadata": {
            "tags": []
          },
          "execution_count": 8
        }
      ]
    },
    {
      "cell_type": "code",
      "metadata": {
        "id": "mKO_P5WVFKwh",
        "colab": {
          "base_uri": "https://localhost:8080/",
          "height": 35
        },
        "outputId": "c6b8a1ac-2355-4605-ddb9-a6b1f7888f6b"
      },
      "source": [
        "print(X_new_train.shape, Y_train.shape)"
      ],
      "execution_count": null,
      "outputs": [
        {
          "output_type": "stream",
          "text": [
            "(303, 13) (303,)\n"
          ],
          "name": "stdout"
        }
      ]
    },
    {
      "cell_type": "code",
      "metadata": {
        "id": "Ud0aGCloHMvx"
      },
      "source": [
        "class perceptron:\n",
        "  \n",
        "  def __init__(self):\n",
        "    self.b = None\n",
        "    self.w = None\n",
        "  \n",
        "  def model(self, x):\n",
        "    return (np.dot(self.w, x) >= self.b)\n",
        "\n",
        "  def predict(self, X):\n",
        "    \n",
        "    Y_pred = list()\n",
        "    for x in X:\n",
        "      y_pred = self.model(x)\n",
        "      Y_pred.append(y_pred)\n",
        "    return np.array(Y_pred)\n",
        "  \n",
        "  def fit(self, X, Y,epochs = 3, lr = 1):\n",
        "    \n",
        "    self.w = np.ones(X.shape[1])\n",
        "    self.b = 0\n",
        "    max_accuracy = 0\n",
        "    \n",
        "    accuracy = dict()\n",
        "    \n",
        "    for i in range(epochs):\n",
        "      for x,y in zip(X,Y):\n",
        "        y_pred = self.model(x)\n",
        "        \n",
        "        if y == 1 and y_pred == 0:\n",
        "          self.w += lr * x\n",
        "          self.b += lr * 1\n",
        "        if y == 0 and y_pred == 1:\n",
        "          self.w -= lr * x\n",
        "          self.b -= lr * 1\n",
        "          \n",
        "      accuracy[i] = accuracy_score(self.predict(X), Y)\n",
        "      if(max_accuracy < accuracy[i]):\n",
        "        max_accuracy = accuracy[i]\n",
        "        chkp_w = self.w\n",
        "        chkp_b = self.b\n",
        "    self.w = chkp_w\n",
        "    self.b = chkp_b\n",
        "    \n",
        "    plt.plot(accuracy.values())\n",
        "    plt.ylim([0,1])\n",
        "    plt.show()\n",
        "    \n",
        "    print('Maximum Accuracy: ',max_accuracy)\n",
        "          "
      ],
      "execution_count": null,
      "outputs": []
    },
    {
      "cell_type": "code",
      "metadata": {
        "id": "R6pFq5VSMVJv"
      },
      "source": [
        "pc = perceptron()"
      ],
      "execution_count": null,
      "outputs": []
    },
    {
      "cell_type": "code",
      "metadata": {
        "id": "NZyNXCXtNOve"
      },
      "source": [
        "X_train = X_train.values\n",
        "Y_train = Y_train.values"
      ],
      "execution_count": null,
      "outputs": []
    },
    {
      "cell_type": "code",
      "metadata": {
        "id": "w16ui6-ZNGFH",
        "colab": {
          "base_uri": "https://localhost:8080/",
          "height": 369
        },
        "outputId": "8175ac94-342c-47a2-c663-f338df4dd36e"
      },
      "source": [
        "pc.fit(X_train, Y_train,50000, 0.001)"
      ],
      "execution_count": null,
      "outputs": [
        {
          "output_type": "display_data",
          "data": {
            "image/png": "[encoded data removed]",
            "text/plain": [
              "<Figure size 576x396 with 1 Axes>"
            ]
          },
          "metadata": {
            "tags": []
          }
        },
        {
          "output_type": "stream",
          "text": [
            "Maximum Accuracy:  0.9834983498349835\n"
          ],
          "name": "stdout"
        }
      ]
    },
    {
      "cell_type": "code",
      "metadata": {
        "id": "dDCGRTLcNNB6",
        "colab": {
          "base_uri": "https://localhost:8080/",
          "height": 55
        },
        "outputId": "301eb623-2ffc-467d-cd97-926fd70f33c9"
      },
      "source": [
        "print('Enter following details to predict whether someone is more likely to have Heart Disease or not: ')\n",
        "a = int(input('age : '))\n",
        "s = int(input('sex [Male-1, Female-2]: '))\n",
        "c  = int(input('cp [0,1,2,3]: '))\n",
        "tr = int(input('trestbps [80 to 200]: '))\n",
        "ch = int(input('chol [90 to 580]: '))\n",
        "f = int(input('fbs [0,1]: '))\n",
        "r = int(input('restecg [0,1]: '))\n",
        "t = int(input('thalach [60 to 210]: '))\n",
        "e = int(input('exang [0,1]: '))\n",
        "o = int(input('oldpeak [0 to 7]: '))\n",
        "sl = int(input('slope [0,1,2]: '))\t\n",
        "ca = int(input('ca [0,1,2]: '))\n",
        "th = int(input('thal [0,1,2,3]: '))\n",
        "tar = int(input('tar value [0,1]: '))\n",
        "l = list()\n",
        "l.extend([a,s,c,tr,ch,f,r,t,e,o,sl,ca,th,l,tar])"
      ],
      "execution_count": null,
      "outputs": [
        {
          "output_type": "stream",
          "text": [
            "Enter following details to predict whether someone is more likely to have Heart Disease or not: \n"
          ],
          "name": "stdout"
        }
      ]
    },
    {
      "cell_type": "code",
      "metadata": {
        "id": "O6wA4zflbbg0",
        "colab": {
          "base_uri": "https://localhost:8080/",
          "height": 35
        },
        "outputId": "34bc2b8c-1819-4a25-9266-5a2b4838d0c6"
      },
      "source": [
        "l.append(tar)\n",
        "del l[13]\n",
        "ln = np.asarray(l[0:14])\n",
        "print(ln)"
      ],
      "execution_count": null,
      "outputs": [
        {
          "output_type": "stream",
          "text": [
            "[ 30   1   1 100 500   0   1 100   0   6   2   1   3   0]\n"
          ],
          "name": "stdout"
        }
      ]
    },
    {
      "cell_type": "code",
      "metadata": {
        "id": "AR5jQLZ3cmYs",
        "colab": {
          "base_uri": "https://localhost:8080/",
          "height": 8672
        },
        "outputId": "6142a23c-fb8f-4123-c4e9-1a2842de7803"
      },
      "source": [
        "for x in X_train:\n",
        "  print(x)"
      ],
      "execution_count": null,
      "outputs": [
        {
          "output_type": "stream",
          "text": [
            "[ 63.    1.    3.  145.  233.    1.    0.  150.    0.    2.3   0.    0.\n",
            "   1.    1. ]\n",
            "[ 37.    1.    2.  130.  250.    0.    1.  187.    0.    3.5   0.    0.\n",
            "   2.    1. ]\n",
            "[ 41.    0.    1.  130.  204.    0.    0.  172.    0.    1.4   2.    0.\n",
            "   2.    1. ]\n",
            "[ 56.    1.    1.  120.  236.    0.    1.  178.    0.    0.8   2.    0.\n",
            "   2.    1. ]\n",
            "[ 57.    0.    0.  120.  354.    0.    1.  163.    1.    0.6   2.    0.\n",
            "   2.    1. ]\n",
            "[ 57.    1.    0.  140.  192.    0.    1.  148.    0.    0.4   1.    0.\n",
            "   1.    1. ]\n",
            "[ 56.    0.    1.  140.  294.    0.    0.  153.    0.    1.3   1.    0.\n",
            "   2.    1. ]\n",
            "[ 44.   1.   1. 120. 263.   0.   1. 173.   0.   0.   2.   0.   3.   1.]\n",
            "[ 52.    1.    2.  172.  199.    1.    1.  162.    0.    0.5   2.    0.\n",
            "   3.    1. ]\n",
            "[ 57.    1.    2.  150.  168.    0.    1.  174.    0.    1.6   2.    0.\n",
            "   2.    1. ]\n",
            "[ 54.    1.    0.  140.  239.    0.    1.  160.    0.    1.2   2.    0.\n",
            "   2.    1. ]\n",
            "[4.80e+01 0.00e+00 2.00e+00 1.30e+02 2.75e+02 0.00e+00 1.00e+00 1.39e+02\n",
            " 0.00e+00 2.00e-01 2.00e+00 0.00e+00 2.00e+00 1.00e+00]\n",
            "[ 49.    1.    1.  130.  266.    0.    1.  171.    0.    0.6   2.    0.\n",
            "   2.    1. ]\n",
            "[ 64.    1.    3.  110.  211.    0.    0.  144.    1.    1.8   1.    0.\n",
            "   2.    1. ]\n",
            "[ 58.   0.   3. 150. 283.   1.   0. 162.   0.   1.   2.   0.   2.   1.]\n",
            "[ 50.    0.    2.  120.  219.    0.    1.  158.    0.    1.6   1.    0.\n",
            "   2.    1. ]\n",
            "[ 58.   0.   2. 120. 340.   0.   1. 172.   0.   0.   2.   0.   2.   1.]\n",
            "[ 66.    0.    3.  150.  226.    0.    1.  114.    0.    2.6   0.    0.\n",
            "   2.    1. ]\n",
            "[ 43.    1.    0.  150.  247.    0.    1.  171.    0.    1.5   2.    0.\n",
            "   2.    1. ]\n",
            "[ 69.    0.    3.  140.  239.    0.    1.  151.    0.    1.8   2.    2.\n",
            "   2.    1. ]\n",
            "[ 59.    1.    0.  135.  234.    0.    1.  161.    0.    0.5   1.    0.\n",
            "   3.    1. ]\n",
            "[ 44.    1.    2.  130.  233.    0.    1.  179.    1.    0.4   2.    0.\n",
            "   2.    1. ]\n",
            "[ 42.   1.   0. 140. 226.   0.   1. 178.   0.   0.   2.   0.   2.   1.]\n",
            "[ 61.   1.   2. 150. 243.   1.   1. 137.   1.   1.   1.   0.   2.   1.]\n",
            "[ 40.    1.    3.  140.  199.    0.    1.  178.    1.    1.4   2.    0.\n",
            "   3.    1. ]\n",
            "[ 71.    0.    1.  160.  302.    0.    1.  162.    0.    0.4   2.    2.\n",
            "   2.    1. ]\n",
            "[ 59.    1.    2.  150.  212.    1.    1.  157.    0.    1.6   2.    0.\n",
            "   2.    1. ]\n",
            "[ 51.    1.    2.  110.  175.    0.    1.  123.    0.    0.6   2.    0.\n",
            "   2.    1. ]\n",
            "[ 65.    0.    2.  140.  417.    1.    0.  157.    0.    0.8   2.    1.\n",
            "   2.    1. ]\n",
            "[ 53.    1.    2.  130.  197.    1.    0.  152.    0.    1.2   0.    0.\n",
            "   2.    1. ]\n",
            "[ 41.   0.   1. 105. 198.   0.   1. 168.   0.   0.   2.   1.   2.   1.]\n",
            "[ 65.    1.    0.  120.  177.    0.    1.  140.    0.    0.4   2.    0.\n",
            "   3.    1. ]\n",
            "[ 44.   1.   1. 130. 219.   0.   0. 188.   0.   0.   2.   0.   2.   1.]\n",
            "[ 54.    1.    2.  125.  273.    0.    0.  152.    0.    0.5   0.    1.\n",
            "   2.    1. ]\n",
            "[ 51.    1.    3.  125.  213.    0.    0.  125.    1.    1.4   2.    1.\n",
            "   2.    1. ]\n",
            "[ 46.    0.    2.  142.  177.    0.    0.  160.    1.    1.4   0.    0.\n",
            "   2.    1. ]\n",
            "[ 54.   0.   2. 135. 304.   1.   1. 170.   0.   0.   2.   0.   2.   1.]\n",
            "[ 54.    1.    2.  150.  232.    0.    0.  165.    0.    1.6   2.    0.\n",
            "   3.    1. ]\n",
            "[ 65.    0.    2.  155.  269.    0.    1.  148.    0.    0.8   2.    0.\n",
            "   2.    1. ]\n",
            "[ 65.    0.    2.  160.  360.    0.    0.  151.    0.    0.8   2.    0.\n",
            "   2.    1. ]\n",
            "[ 51.    0.    2.  140.  308.    0.    0.  142.    0.    1.5   2.    1.\n",
            "   2.    1. ]\n",
            "[4.80e+01 1.00e+00 1.00e+00 1.30e+02 2.45e+02 0.00e+00 0.00e+00 1.80e+02\n",
            " 0.00e+00 2.00e-01 1.00e+00 0.00e+00 2.00e+00 1.00e+00]\n",
            "[ 45.   1.   0. 104. 208.   0.   0. 148.   1.   3.   1.   0.   2.   1.]\n",
            "[ 53.    0.    0.  130.  264.    0.    0.  143.    0.    0.4   1.    0.\n",
            "   2.    1. ]\n",
            "[ 39.   1.   2. 140. 321.   0.   0. 182.   0.   0.   2.   0.   2.   1.]\n",
            "[5.20e+01 1.00e+00 1.00e+00 1.20e+02 3.25e+02 0.00e+00 1.00e+00 1.72e+02\n",
            " 0.00e+00 2.00e-01 2.00e+00 0.00e+00 2.00e+00 1.00e+00]\n",
            "[ 44.   1.   2. 140. 235.   0.   0. 180.   0.   0.   2.   0.   2.   1.]\n",
            "[ 47.   1.   2. 138. 257.   0.   0. 156.   0.   0.   2.   0.   2.   1.]\n",
            "[ 53.   0.   2. 128. 216.   0.   0. 115.   0.   0.   2.   0.   0.   1.]\n",
            "[ 53.   0.   0. 138. 234.   0.   0. 160.   0.   0.   2.   0.   2.   1.]\n",
            "[ 51.    0.    2.  130.  256.    0.    0.  149.    0.    0.5   2.    0.\n",
            "   2.    1. ]\n",
            "[ 66.    1.    0.  120.  302.    0.    0.  151.    0.    0.4   1.    0.\n",
            "   2.    1. ]\n",
            "[ 62.    1.    2.  130.  231.    0.    1.  146.    0.    1.8   1.    3.\n",
            "   3.    1. ]\n",
            "[ 44.    0.    2.  108.  141.    0.    1.  175.    0.    0.6   1.    0.\n",
            "   2.    1. ]\n",
            "[ 63.   0.   2. 135. 252.   0.   0. 172.   0.   0.   2.   0.   2.   1.]\n",
            "[ 52.    1.    1.  134.  201.    0.    1.  158.    0.    0.8   2.    1.\n",
            "   2.    1. ]\n",
            "[ 48.   1.   0. 122. 222.   0.   0. 186.   0.   0.   2.   0.   2.   1.]\n",
            "[ 45.   1.   0. 115. 260.   0.   0. 185.   0.   0.   2.   0.   2.   1.]\n",
            "[ 34.   1.   3. 118. 182.   0.   0. 174.   0.   0.   2.   0.   2.   1.]\n",
            "[ 57.   0.   0. 128. 303.   0.   0. 159.   0.   0.   2.   1.   2.   1.]\n",
            "[ 71.   0.   2. 110. 265.   1.   0. 130.   0.   0.   2.   1.   2.   1.]\n",
            "[ 54.   1.   1. 108. 309.   0.   1. 156.   0.   0.   2.   0.   3.   1.]\n",
            "[ 52.   1.   3. 118. 186.   0.   0. 190.   0.   0.   1.   0.   1.   1.]\n",
            "[ 41.   1.   1. 135. 203.   0.   1. 132.   0.   0.   1.   0.   1.   1.]\n",
            "[ 58.   1.   2. 140. 211.   1.   0. 165.   0.   0.   2.   0.   2.   1.]\n",
            "[ 35.    0.    0.  138.  183.    0.    1.  182.    0.    1.4   2.    0.\n",
            "   2.    1. ]\n",
            "[ 51.    1.    2.  100.  222.    0.    1.  143.    1.    1.2   1.    0.\n",
            "   2.    1. ]\n",
            "[ 45.    0.    1.  130.  234.    0.    0.  175.    0.    0.6   1.    0.\n",
            "   2.    1. ]\n",
            "[ 44.   1.   1. 120. 220.   0.   1. 170.   0.   0.   2.   0.   2.   1.]\n",
            "[ 62.   0.   0. 124. 209.   0.   1. 163.   0.   0.   2.   0.   2.   1.]\n",
            "[ 54.    1.    2.  120.  258.    0.    0.  147.    0.    0.4   1.    0.\n",
            "   3.    1. ]\n",
            "[ 51.   1.   2.  94. 227.   0.   1. 154.   1.   0.   2.   1.   3.   1.]\n",
            "[ 29.   1.   1. 130. 204.   0.   0. 202.   0.   0.   2.   0.   2.   1.]\n",
            "[ 51.   1.   0. 140. 261.   0.   0. 186.   1.   0.   2.   0.   2.   1.]\n",
            "[4.30e+01 0.00e+00 2.00e+00 1.22e+02 2.13e+02 0.00e+00 1.00e+00 1.65e+02\n",
            " 0.00e+00 2.00e-01 1.00e+00 0.00e+00 2.00e+00 1.00e+00]\n",
            "[ 55.    0.    1.  135.  250.    0.    0.  161.    0.    1.4   1.    0.\n",
            "   2.    1. ]\n",
            "[ 51.    1.    2.  125.  245.    1.    0.  166.    0.    2.4   1.    0.\n",
            "   2.    1. ]\n",
            "[ 59.   1.   1. 140. 221.   0.   1. 164.   1.   0.   2.   0.   2.   1.]\n",
            "[ 52.   1.   1. 128. 205.   1.   1. 184.   0.   0.   2.   0.   2.   1.]\n",
            "[ 58.    1.    2.  105.  240.    0.    0.  154.    1.    0.6   1.    0.\n",
            "   3.    1. ]\n",
            "[ 41.   1.   2. 112. 250.   0.   1. 179.   0.   0.   2.   0.   2.   1.]\n",
            "[ 45.   1.   1. 128. 308.   0.   0. 170.   0.   0.   2.   0.   2.   1.]\n",
            "[ 60.   0.   2. 102. 318.   0.   1. 160.   0.   0.   2.   1.   2.   1.]\n",
            "[ 52.    1.    3.  152.  298.    1.    1.  178.    0.    1.2   1.    0.\n",
            "   3.    1. ]\n",
            "[ 42.    0.    0.  102.  265.    0.    0.  122.    0.    0.6   1.    0.\n",
            "   2.    1. ]\n",
            "[ 67.    0.    2.  115.  564.    0.    0.  160.    0.    1.6   1.    0.\n",
            "   3.    1. ]\n",
            "[ 68.   1.   2. 118. 277.   0.   1. 151.   0.   1.   2.   1.   3.   1.]\n",
            "[ 46.   1.   1. 101. 197.   1.   1. 156.   0.   0.   2.   0.   3.   1.]\n",
            "[ 54.    0.    2.  110.  214.    0.    1.  158.    0.    1.6   1.    0.\n",
            "   2.    1. ]\n",
            "[ 58.   0.   0. 100. 248.   0.   0. 122.   0.   1.   1.   0.   2.   1.]\n",
            "[ 48.   1.   2. 124. 255.   1.   1. 175.   0.   0.   2.   2.   2.   1.]\n",
            "[ 57.   1.   0. 132. 207.   0.   1. 168.   1.   0.   2.   0.   3.   1.]\n",
            "[ 52.   1.   2. 138. 223.   0.   1. 169.   0.   0.   2.   4.   2.   1.]\n",
            "[ 54.   0.   1. 132. 288.   1.   0. 159.   1.   0.   2.   1.   2.   1.]\n",
            "[ 45.   0.   1. 112. 160.   0.   1. 138.   0.   0.   1.   0.   2.   1.]\n",
            "[ 53.   1.   0. 142. 226.   0.   0. 111.   1.   0.   2.   0.   3.   1.]\n",
            "[ 62.    0.    0.  140.  394.    0.    0.  157.    0.    1.2   1.    0.\n",
            "   2.    1. ]\n",
            "[5.20e+01 1.00e+00 0.00e+00 1.08e+02 2.33e+02 1.00e+00 1.00e+00 1.47e+02\n",
            " 0.00e+00 1.00e-01 2.00e+00 3.00e+00 3.00e+00 1.00e+00]\n",
            "[ 43.    1.    2.  130.  315.    0.    1.  162.    0.    1.9   2.    1.\n",
            "   2.    1. ]\n",
            "[ 53.   1.   2. 130. 246.   1.   0. 173.   0.   0.   2.   3.   2.   1.]\n",
            "[ 42.    1.    3.  148.  244.    0.    0.  178.    0.    0.8   2.    2.\n",
            "   2.    1. ]\n",
            "[ 59.    1.    3.  178.  270.    0.    0.  145.    0.    4.2   0.    0.\n",
            "   3.    1. ]\n",
            "[ 63.   0.   1. 140. 195.   0.   1. 179.   0.   0.   2.   2.   2.   1.]\n",
            "[ 42.    1.    2.  120.  240.    1.    1.  194.    0.    0.8   0.    0.\n",
            "   3.    1. ]\n",
            "[ 50.   1.   2. 129. 196.   0.   1. 163.   0.   0.   2.   0.   2.   1.]\n",
            "[ 68.    0.    2.  120.  211.    0.    0.  115.    0.    1.5   1.    0.\n",
            "   2.    1. ]\n",
            "[6.90e+01 1.00e+00 3.00e+00 1.60e+02 2.34e+02 1.00e+00 0.00e+00 1.31e+02\n",
            " 0.00e+00 1.00e-01 1.00e+00 1.00e+00 2.00e+00 1.00e+00]\n",
            "[4.50e+01 0.00e+00 0.00e+00 1.38e+02 2.36e+02 0.00e+00 0.00e+00 1.52e+02\n",
            " 1.00e+00 2.00e-01 1.00e+00 0.00e+00 2.00e+00 1.00e+00]\n",
            "[ 50.    0.    1.  120.  244.    0.    1.  162.    0.    1.1   2.    0.\n",
            "   2.    1. ]\n",
            "[ 50.   0.   0. 110. 254.   0.   0. 159.   0.   0.   2.   0.   2.   1.]\n",
            "[ 64.   0.   0. 180. 325.   0.   1. 154.   1.   0.   2.   0.   2.   1.]\n",
            "[ 57.    1.    2.  150.  126.    1.    1.  173.    0.    0.2   2.    1.\n",
            "   3.    1. ]\n",
            "[6.40e+01 0.00e+00 2.00e+00 1.40e+02 3.13e+02 0.00e+00 1.00e+00 1.33e+02\n",
            " 0.00e+00 2.00e-01 2.00e+00 0.00e+00 3.00e+00 1.00e+00]\n",
            "[ 43.   1.   0. 110. 211.   0.   1. 161.   0.   0.   2.   0.   3.   1.]\n",
            "[ 55.   1.   1. 130. 262.   0.   1. 155.   0.   0.   2.   0.   2.   1.]\n",
            "[ 37.   0.   2. 120. 215.   0.   1. 170.   0.   0.   2.   0.   2.   1.]\n",
            "[ 41.   1.   2. 130. 214.   0.   0. 168.   0.   2.   1.   0.   2.   1.]\n",
            "[ 56.    1.    3.  120.  193.    0.    0.  162.    0.    1.9   1.    0.\n",
            "   3.    1. ]\n",
            "[ 46.   0.   1. 105. 204.   0.   1. 172.   0.   0.   2.   0.   2.   1.]\n",
            "[ 46.   0.   0. 138. 243.   0.   0. 152.   1.   0.   1.   0.   2.   1.]\n",
            "[ 64.   0.   0. 130. 303.   0.   1. 122.   0.   2.   1.   2.   2.   1.]\n",
            "[ 59.   1.   0. 138. 271.   0.   0. 182.   0.   0.   2.   0.   2.   1.]\n",
            "[ 41.   0.   2. 112. 268.   0.   0. 172.   1.   0.   2.   0.   2.   1.]\n",
            "[ 54.   0.   2. 108. 267.   0.   0. 167.   0.   0.   2.   0.   2.   1.]\n",
            "[ 39.   0.   2.  94. 199.   0.   1. 179.   0.   0.   2.   0.   2.   1.]\n",
            "[ 34.    0.    1.  118.  210.    0.    1.  192.    0.    0.7   2.    0.\n",
            "   2.    1. ]\n",
            "[4.70e+01 1.00e+00 0.00e+00 1.12e+02 2.04e+02 0.00e+00 1.00e+00 1.43e+02\n",
            " 0.00e+00 1.00e-01 2.00e+00 0.00e+00 2.00e+00 1.00e+00]\n",
            "[ 67.   0.   2. 152. 277.   0.   1. 172.   0.   0.   2.   1.   2.   1.]\n",
            "[5.20e+01 0.00e+00 2.00e+00 1.36e+02 1.96e+02 0.00e+00 0.00e+00 1.69e+02\n",
            " 0.00e+00 1.00e-01 1.00e+00 0.00e+00 2.00e+00 1.00e+00]\n",
            "[7.40e+01 0.00e+00 1.00e+00 1.20e+02 2.69e+02 0.00e+00 0.00e+00 1.21e+02\n",
            " 1.00e+00 2.00e-01 2.00e+00 1.00e+00 2.00e+00 1.00e+00]\n",
            "[ 54.   0.   2. 160. 201.   0.   1. 163.   0.   0.   2.   1.   2.   1.]\n",
            "[ 49.   0.   1. 134. 271.   0.   1. 162.   0.   0.   1.   0.   2.   1.]\n",
            "[ 42.   1.   1. 120. 295.   0.   1. 162.   0.   0.   2.   0.   2.   1.]\n",
            "[ 41.   1.   1. 110. 235.   0.   1. 153.   0.   0.   2.   0.   2.   1.]\n",
            "[ 41.   0.   1. 126. 306.   0.   1. 163.   0.   0.   2.   0.   2.   1.]\n",
            "[ 49.   0.   0. 130. 269.   0.   1. 163.   0.   0.   2.   0.   2.   1.]\n",
            "[ 60.   0.   2. 120. 178.   1.   1.  96.   0.   0.   2.   0.   2.   1.]\n",
            "[ 62.   1.   1. 128. 208.   1.   0. 140.   0.   0.   2.   0.   2.   1.]\n",
            "[ 57.    1.    0.  110.  201.    0.    1.  126.    1.    1.5   1.    0.\n",
            "   1.    1. ]\n",
            "[6.40e+01 1.00e+00 0.00e+00 1.28e+02 2.63e+02 0.00e+00 1.00e+00 1.05e+02\n",
            " 1.00e+00 2.00e-01 1.00e+00 1.00e+00 3.00e+00 1.00e+00]\n",
            "[ 51.    0.    2.  120.  295.    0.    0.  157.    0.    0.6   2.    0.\n",
            "   2.    1. ]\n",
            "[ 43.    1.    0.  115.  303.    0.    1.  181.    0.    1.2   1.    0.\n",
            "   2.    1. ]\n",
            "[ 42.   0.   2. 120. 209.   0.   1. 173.   0.   0.   1.   0.   2.   1.]\n",
            "[ 67.    0.    0.  106.  223.    0.    1.  142.    0.    0.3   2.    2.\n",
            "   2.    1. ]\n",
            "[ 76.    0.    2.  140.  197.    0.    2.  116.    0.    1.1   1.    0.\n",
            "   2.    1. ]\n",
            "[ 70.   1.   1. 156. 245.   0.   0. 143.   0.   0.   2.   0.   2.   1.]\n",
            "[ 44.    0.    2.  118.  242.    0.    1.  149.    0.    0.3   1.    1.\n",
            "   2.    1. ]\n",
            "[ 60.    0.    3.  150.  240.    0.    1.  171.    0.    0.9   2.    0.\n",
            "   2.    1. ]\n",
            "[ 44.   1.   2. 120. 226.   0.   1. 169.   0.   0.   2.   0.   2.   1.]\n",
            "[ 42.   1.   2. 130. 180.   0.   1. 150.   0.   0.   2.   0.   2.   1.]\n",
            "[ 66.    1.    0.  160.  228.    0.    0.  138.    0.    2.3   2.    0.\n",
            "   1.    1. ]\n",
            "[ 71.    0.    0.  112.  149.    0.    1.  125.    0.    1.6   1.    0.\n",
            "   2.    1. ]\n",
            "[ 64.    1.    3.  170.  227.    0.    0.  155.    0.    0.6   1.    0.\n",
            "   3.    1. ]\n",
            "[ 66.   0.   2. 146. 278.   0.   0. 152.   0.   0.   1.   1.   2.   1.]\n",
            "[ 39.   0.   2. 138. 220.   0.   1. 152.   0.   0.   1.   0.   2.   1.]\n",
            "[ 58.    0.    0.  130.  197.    0.    1.  131.    0.    0.6   1.    0.\n",
            "   2.    1. ]\n",
            "[ 47.   1.   2. 130. 253.   0.   1. 179.   0.   0.   2.   0.   2.   1.]\n",
            "[ 35.   1.   1. 122. 192.   0.   1. 174.   0.   0.   2.   0.   2.   1.]\n",
            "[ 58.    1.    1.  125.  220.    0.    1.  144.    0.    0.4   1.    4.\n",
            "   3.    1. ]\n",
            "[ 56.   1.   1. 130. 221.   0.   0. 163.   0.   0.   2.   0.   3.   1.]\n",
            "[ 56.   1.   1. 120. 240.   0.   1. 169.   0.   0.   0.   0.   2.   1.]\n",
            "[ 55.    0.    1.  132.  342.    0.    1.  166.    0.    1.2   2.    0.\n",
            "   2.    1. ]\n",
            "[ 41.   1.   1. 120. 157.   0.   1. 182.   0.   0.   2.   0.   2.   1.]\n",
            "[ 38.   1.   2. 138. 175.   0.   1. 173.   0.   0.   2.   4.   2.   1.]\n",
            "[ 38.   1.   2. 138. 175.   0.   1. 173.   0.   0.   2.   4.   2.   1.]\n",
            "[ 67.    1.    0.  160.  286.    0.    0.  108.    1.    1.5   1.    3.\n",
            "   2.    0. ]\n",
            "[ 67.    1.    0.  120.  229.    0.    0.  129.    1.    2.6   1.    2.\n",
            "   3.    0. ]\n",
            "[ 62.    0.    0.  140.  268.    0.    0.  160.    0.    3.6   0.    2.\n",
            "   2.    0. ]\n",
            "[ 63.    1.    0.  130.  254.    0.    0.  147.    0.    1.4   1.    1.\n",
            "   3.    0. ]\n",
            "[ 53.    1.    0.  140.  203.    1.    0.  155.    1.    3.1   0.    0.\n",
            "   3.    0. ]\n",
            "[ 56.    1.    2.  130.  256.    1.    0.  142.    1.    0.6   1.    1.\n",
            "   1.    0. ]\n",
            "[ 48.   1.   1. 110. 229.   0.   1. 168.   0.   1.   0.   0.   3.   0.]\n",
            "[ 58.    1.    1.  120.  284.    0.    0.  160.    0.    1.8   1.    0.\n",
            "   2.    0. ]\n",
            "[ 58.    1.    2.  132.  224.    0.    0.  173.    0.    3.2   2.    2.\n",
            "   3.    0. ]\n",
            "[ 60.    1.    0.  130.  206.    0.    0.  132.    1.    2.4   1.    2.\n",
            "   3.    0. ]\n",
            "[ 40.   1.   0. 110. 167.   0.   0. 114.   1.   2.   1.   0.   3.   0.]\n",
            "[ 60.    1.    0.  117.  230.    1.    1.  160.    1.    1.4   2.    2.\n",
            "   3.    0. ]\n",
            "[ 64.   1.   2. 140. 335.   0.   1. 158.   0.   0.   2.   0.   2.   0.]\n",
            "[ 43.    1.    0.  120.  177.    0.    0.  120.    1.    2.5   1.    0.\n",
            "   3.    0. ]\n",
            "[ 57.    1.    0.  150.  276.    0.    0.  112.    1.    0.6   1.    1.\n",
            "   1.    0. ]\n",
            "[ 55.    1.    0.  132.  353.    0.    1.  132.    1.    1.2   1.    1.\n",
            "   3.    0. ]\n",
            "[ 65.   0.   0. 150. 225.   0.   0. 114.   0.   1.   1.   3.   3.   0.]\n",
            "[ 61.   0.   0. 130. 330.   0.   0. 169.   0.   0.   2.   0.   2.   0.]\n",
            "[ 58.    1.    2.  112.  230.    0.    0.  165.    0.    2.5   1.    1.\n",
            "   3.    0. ]\n",
            "[ 50.    1.    0.  150.  243.    0.    0.  128.    0.    2.6   1.    0.\n",
            "   3.    0. ]\n",
            "[ 44.   1.   0. 112. 290.   0.   0. 153.   0.   0.   2.   1.   2.   0.]\n",
            "[ 60.    1.    0.  130.  253.    0.    1.  144.    1.    1.4   2.    1.\n",
            "   3.    0. ]\n",
            "[ 54.    1.    0.  124.  266.    0.    0.  109.    1.    2.2   1.    1.\n",
            "   3.    0. ]\n",
            "[ 50.    1.    2.  140.  233.    0.    1.  163.    0.    0.6   1.    1.\n",
            "   3.    0. ]\n",
            "[ 41.   1.   0. 110. 172.   0.   0. 158.   0.   0.   2.   0.   3.   0.]\n",
            "[ 51.    0.    0.  130.  305.    0.    1.  142.    1.    1.2   1.    0.\n",
            "   3.    0. ]\n",
            "[ 58.    1.    0.  128.  216.    0.    0.  131.    1.    2.2   1.    3.\n",
            "   3.    0. ]\n",
            "[ 54.    1.    0.  120.  188.    0.    1.  113.    0.    1.4   1.    1.\n",
            "   3.    0. ]\n",
            "[ 60.    1.    0.  145.  282.    0.    0.  142.    1.    2.8   1.    2.\n",
            "   3.    0. ]\n",
            "[ 60.   1.   2. 140. 185.   0.   0. 155.   0.   3.   1.   0.   2.   0.]\n",
            "[ 59.    1.    0.  170.  326.    0.    0.  140.    1.    3.4   0.    0.\n",
            "   3.    0. ]\n",
            "[ 46.    1.    2.  150.  231.    0.    1.  147.    0.    3.6   1.    0.\n",
            "   2.    0. ]\n",
            "[6.70e+01 1.00e+00 0.00e+00 1.25e+02 2.54e+02 1.00e+00 1.00e+00 1.63e+02\n",
            " 0.00e+00 2.00e-01 1.00e+00 2.00e+00 3.00e+00 0.00e+00]\n",
            "[ 62.    1.    0.  120.  267.    0.    1.   99.    1.    1.8   1.    2.\n",
            "   3.    0. ]\n",
            "[ 65.    1.    0.  110.  248.    0.    0.  158.    0.    0.6   2.    2.\n",
            "   1.    0. ]\n",
            "[ 44.   1.   0. 110. 197.   0.   0. 177.   0.   0.   2.   1.   2.   0.]\n",
            "[ 60.    1.    0.  125.  258.    0.    0.  141.    1.    2.8   1.    1.\n",
            "   3.    0. ]\n",
            "[ 58.    1.    0.  150.  270.    0.    0.  111.    1.    0.8   2.    0.\n",
            "   3.    0. ]\n",
            "[ 68.    1.    2.  180.  274.    1.    0.  150.    1.    1.6   1.    0.\n",
            "   3.    0. ]\n",
            "[ 62.    0.    0.  160.  164.    0.    0.  145.    0.    6.2   0.    3.\n",
            "   3.    0. ]\n",
            "[ 52.   1.   0. 128. 255.   0.   1. 161.   1.   0.   2.   1.   3.   0.]\n",
            "[ 59.    1.    0.  110.  239.    0.    0.  142.    1.    1.2   1.    1.\n",
            "   3.    0. ]\n",
            "[ 60.    0.    0.  150.  258.    0.    0.  157.    0.    2.6   1.    2.\n",
            "   3.    0. ]\n",
            "[ 49.   1.   2. 120. 188.   0.   1. 139.   0.   2.   1.   3.   3.   0.]\n",
            "[ 59.   1.   0. 140. 177.   0.   1. 162.   1.   0.   2.   1.   3.   0.]\n",
            "[ 57.    1.    2.  128.  229.    0.    0.  150.    0.    0.4   1.    1.\n",
            "   3.    0. ]\n",
            "[ 61.    1.    0.  120.  260.    0.    1.  140.    1.    3.6   1.    1.\n",
            "   3.    0. ]\n",
            "[ 39.    1.    0.  118.  219.    0.    1.  140.    0.    1.2   1.    0.\n",
            "   3.    0. ]\n",
            "[ 61.   0.   0. 145. 307.   0.   0. 146.   1.   1.   1.   0.   3.   0.]\n",
            "[ 56.    1.    0.  125.  249.    1.    0.  144.    1.    1.2   1.    1.\n",
            "   2.    0. ]\n",
            "[ 43.   0.   0. 132. 341.   1.   0. 136.   1.   3.   1.   0.   3.   0.]\n",
            "[ 62.    0.    2.  130.  263.    0.    1.   97.    0.    1.2   1.    1.\n",
            "   3.    0. ]\n",
            "[ 63.    1.    0.  130.  330.    1.    0.  132.    1.    1.8   2.    3.\n",
            "   3.    0. ]\n",
            "[ 65.    1.    0.  135.  254.    0.    0.  127.    0.    2.8   1.    1.\n",
            "   3.    0. ]\n",
            "[ 48.   1.   0. 130. 256.   1.   0. 150.   1.   0.   2.   2.   3.   0.]\n",
            "[ 63.   0.   0. 150. 407.   0.   0. 154.   0.   4.   1.   3.   3.   0.]\n",
            "[ 55.    1.    0.  140.  217.    0.    1.  111.    1.    5.6   0.    0.\n",
            "   3.    0. ]\n",
            "[ 65.    1.    3.  138.  282.    1.    0.  174.    0.    1.4   1.    1.\n",
            "   2.    0. ]\n",
            "[ 56.   0.   0. 200. 288.   1.   0. 133.   1.   4.   0.   2.   3.   0.]\n",
            "[ 54.    1.    0.  110.  239.    0.    1.  126.    1.    2.8   1.    1.\n",
            "   3.    0. ]\n",
            "[ 70.    1.    0.  145.  174.    0.    1.  125.    1.    2.6   0.    0.\n",
            "   3.    0. ]\n",
            "[ 62.    1.    1.  120.  281.    0.    0.  103.    0.    1.4   1.    1.\n",
            "   3.    0. ]\n",
            "[ 35.    1.    0.  120.  198.    0.    1.  130.    1.    1.6   1.    0.\n",
            "   3.    0. ]\n",
            "[5.90e+01 1.00e+00 3.00e+00 1.70e+02 2.88e+02 0.00e+00 0.00e+00 1.59e+02\n",
            " 0.00e+00 2.00e-01 1.00e+00 0.00e+00 3.00e+00 0.00e+00]\n",
            "[ 64.    1.    2.  125.  309.    0.    1.  131.    1.    1.8   1.    0.\n",
            "   3.    0. ]\n",
            "[ 47.   1.   2. 108. 243.   0.   1. 152.   0.   0.   2.   0.   2.   0.]\n",
            "[ 57.   1.   0. 165. 289.   1.   0. 124.   0.   1.   1.   3.   3.   0.]\n",
            "[ 55.    1.    0.  160.  289.    0.    0.  145.    1.    0.8   1.    1.\n",
            "   3.    0. ]\n",
            "[ 64.    1.    0.  120.  246.    0.    0.   96.    1.    2.2   0.    1.\n",
            "   2.    0. ]\n",
            "[ 70.    1.    0.  130.  322.    0.    0.  109.    0.    2.4   1.    3.\n",
            "   2.    0. ]\n",
            "[ 51.    1.    0.  140.  299.    0.    1.  173.    1.    1.6   2.    0.\n",
            "   3.    0. ]\n",
            "[ 58.   1.   0. 125. 300.   0.   0. 171.   0.   0.   2.   2.   3.   0.]\n",
            "[ 60.    1.    0.  140.  293.    0.    0.  170.    0.    1.2   1.    2.\n",
            "   3.    0. ]\n",
            "[ 77.   1.   0. 125. 304.   0.   0. 162.   1.   0.   2.   3.   2.   0.]\n",
            "[ 35.   1.   0. 126. 282.   0.   0. 156.   1.   0.   2.   0.   3.   0.]\n",
            "[ 70.    1.    2.  160.  269.    0.    1.  112.    1.    2.9   1.    1.\n",
            "   3.    0. ]\n",
            "[ 59.   0.   0. 174. 249.   0.   1. 143.   1.   0.   1.   0.   2.   0.]\n",
            "[ 64.   1.   0. 145. 212.   0.   0. 132.   0.   2.   1.   2.   1.   0.]\n",
            "[ 57.    1.    0.  152.  274.    0.    1.   88.    1.    1.2   1.    1.\n",
            "   3.    0. ]\n",
            "[ 56.    1.    0.  132.  184.    0.    0.  105.    1.    2.1   1.    1.\n",
            "   1.    0. ]\n",
            "[ 48.    1.    0.  124.  274.    0.    0.  166.    0.    0.5   1.    0.\n",
            "   3.    0. ]\n",
            "[ 56.    0.    0.  134.  409.    0.    0.  150.    1.    1.9   1.    2.\n",
            "   3.    0. ]\n",
            "[ 66.   1.   1. 160. 246.   0.   1. 120.   1.   0.   1.   3.   1.   0.]\n",
            "[ 54.   1.   1. 192. 283.   0.   0. 195.   0.   0.   2.   1.   3.   0.]\n",
            "[ 69.   1.   2. 140. 254.   0.   0. 146.   0.   2.   1.   3.   3.   0.]\n",
            "[ 51.    1.    0.  140.  298.    0.    1.  122.    1.    4.2   1.    3.\n",
            "   3.    0. ]\n",
            "[4.30e+01 1.00e+00 0.00e+00 1.32e+02 2.47e+02 1.00e+00 0.00e+00 1.43e+02\n",
            " 1.00e+00 1.00e-01 1.00e+00 4.00e+00 3.00e+00 0.00e+00]\n",
            "[ 62.    0.    0.  138.  294.    1.    1.  106.    0.    1.9   1.    3.\n",
            "   2.    0. ]\n",
            "[ 67.    1.    0.  100.  299.    0.    0.  125.    1.    0.9   1.    2.\n",
            "   2.    0. ]\n",
            "[ 59.   1.   3. 160. 273.   0.   0. 125.   0.   0.   2.   0.   2.   0.]\n",
            "[ 45.   1.   0. 142. 309.   0.   0. 147.   1.   0.   1.   3.   3.   0.]\n",
            "[ 58.   1.   0. 128. 259.   0.   0. 130.   1.   3.   1.   2.   3.   0.]\n",
            "[ 50.    1.    0.  144.  200.    0.    0.  126.    1.    0.9   1.    0.\n",
            "   3.    0. ]\n",
            "[ 62.    0.    0.  150.  244.    0.    1.  154.    1.    1.4   1.    0.\n",
            "   2.    0. ]\n",
            "[ 38.    1.    3.  120.  231.    0.    1.  182.    1.    3.8   1.    0.\n",
            "   3.    0. ]\n",
            "[ 66.   0.   0. 178. 228.   1.   1. 165.   1.   1.   1.   2.   3.   0.]\n",
            "[ 52.   1.   0. 112. 230.   0.   1. 160.   0.   0.   2.   1.   2.   0.]\n",
            "[ 53.   1.   0. 123. 282.   0.   1.  95.   1.   2.   1.   2.   3.   0.]\n",
            "[ 63.    0.    0.  108.  269.    0.    1.  169.    1.    1.8   1.    2.\n",
            "   2.    0. ]\n",
            "[ 54.   1.   0. 110. 206.   0.   0. 108.   1.   0.   1.   1.   2.   0.]\n",
            "[6.60e+01 1.00e+00 0.00e+00 1.12e+02 2.12e+02 0.00e+00 0.00e+00 1.32e+02\n",
            " 1.00e+00 1.00e-01 2.00e+00 1.00e+00 2.00e+00 0.00e+00]\n",
            "[ 55.    0.    0.  180.  327.    0.    2.  117.    1.    3.4   1.    0.\n",
            "   2.    0. ]\n",
            "[ 49.    1.    2.  118.  149.    0.    0.  126.    0.    0.8   2.    3.\n",
            "   2.    0. ]\n",
            "[ 54.    1.    0.  122.  286.    0.    0.  116.    1.    3.2   1.    2.\n",
            "   2.    0. ]\n",
            "[ 56.    1.    0.  130.  283.    1.    0.  103.    1.    1.6   0.    0.\n",
            "   3.    0. ]\n",
            "[ 46.    1.    0.  120.  249.    0.    0.  144.    0.    0.8   2.    0.\n",
            "   3.    0. ]\n",
            "[ 61.    1.    3.  134.  234.    0.    1.  145.    0.    2.6   1.    2.\n",
            "   2.    0. ]\n",
            "[ 67.   1.   0. 120. 237.   0.   1.  71.   0.   1.   1.   0.   2.   0.]\n",
            "[5.80e+01 1.00e+00 0.00e+00 1.00e+02 2.34e+02 0.00e+00 1.00e+00 1.56e+02\n",
            " 0.00e+00 1.00e-01 2.00e+00 1.00e+00 3.00e+00 0.00e+00]\n",
            "[ 47.   1.   0. 110. 275.   0.   0. 118.   1.   1.   1.   1.   2.   0.]\n",
            "[ 52.   1.   0. 125. 212.   0.   1. 168.   0.   1.   2.   2.   3.   0.]\n",
            "[ 58.   1.   0. 146. 218.   0.   1. 105.   0.   2.   1.   1.   3.   0.]\n",
            "[ 57.    1.    1.  124.  261.    0.    1.  141.    0.    0.3   2.    0.\n",
            "   3.    0. ]\n",
            "[ 58.   0.   1. 136. 319.   1.   0. 152.   0.   0.   2.   2.   2.   0.]\n",
            "[ 61.    1.    0.  138.  166.    0.    0.  125.    1.    3.6   1.    1.\n",
            "   2.    0. ]\n",
            "[ 42.    1.    0.  136.  315.    0.    1.  125.    1.    1.8   1.    0.\n",
            "   1.    0. ]\n",
            "[ 52.   1.   0. 128. 204.   1.   1. 156.   1.   1.   1.   0.   0.   0.]\n",
            "[ 59.    1.    2.  126.  218.    1.    1.  134.    0.    2.2   1.    1.\n",
            "   1.    0. ]\n",
            "[ 40.   1.   0. 152. 223.   0.   1. 181.   0.   0.   2.   0.   3.   0.]\n",
            "[ 61.    1.    0.  140.  207.    0.    0.  138.    1.    1.9   2.    1.\n",
            "   3.    0. ]\n",
            "[ 46.    1.    0.  140.  311.    0.    1.  120.    1.    1.8   1.    2.\n",
            "   3.    0. ]\n",
            "[ 59.    1.    3.  134.  204.    0.    1.  162.    0.    0.8   2.    2.\n",
            "   2.    0. ]\n",
            "[ 57.   1.   1. 154. 232.   0.   0. 164.   0.   0.   2.   1.   2.   0.]\n",
            "[ 57.   1.   0. 110. 335.   0.   1. 143.   1.   3.   1.   1.   3.   0.]\n",
            "[ 55.   0.   0. 128. 205.   0.   2. 130.   1.   2.   1.   1.   3.   0.]\n",
            "[ 61.   1.   0. 148. 203.   0.   1. 161.   0.   0.   2.   1.   3.   0.]\n",
            "[ 58.    1.    0.  114.  318.    0.    2.  140.    0.    4.4   0.    3.\n",
            "   1.    0. ]\n",
            "[ 58.    0.    0.  170.  225.    1.    0.  146.    1.    2.8   1.    2.\n",
            "   1.    0. ]\n",
            "[ 67.    1.    2.  152.  212.    0.    0.  150.    0.    0.8   1.    0.\n",
            "   3.    0. ]\n",
            "[ 44.    1.    0.  120.  169.    0.    1.  144.    1.    2.8   0.    0.\n",
            "   1.    0. ]\n",
            "[ 63.   1.   0. 140. 187.   0.   0. 144.   1.   4.   2.   2.   3.   0.]\n",
            "[ 63.   0.   0. 124. 197.   0.   1. 136.   1.   0.   1.   0.   2.   0.]\n",
            "[ 59.   1.   0. 164. 176.   1.   0.  90.   0.   1.   1.   2.   1.   0.]\n",
            "[5.70e+01 0.00e+00 0.00e+00 1.40e+02 2.41e+02 0.00e+00 1.00e+00 1.23e+02\n",
            " 1.00e+00 2.00e-01 1.00e+00 0.00e+00 3.00e+00 0.00e+00]\n",
            "[ 45.    1.    3.  110.  264.    0.    1.  132.    0.    1.2   1.    0.\n",
            "   3.    0. ]\n",
            "[ 68.    1.    0.  144.  193.    1.    1.  141.    0.    3.4   1.    2.\n",
            "   3.    0. ]\n",
            "[ 57.    1.    0.  130.  131.    0.    1.  115.    1.    1.2   1.    1.\n",
            "   3.    0. ]\n",
            "[ 57.   0.   1. 130. 236.   0.   0. 174.   0.   0.   1.   1.   2.   0.]\n"
          ],
          "name": "stdout"
        }
      ]
    },
    {
      "cell_type": "code",
      "metadata": {
        "id": "LfilAm4ooyg3",
        "colab": {
          "base_uri": "https://localhost:8080/",
          "height": 35
        },
        "outputId": "a23a2ea4-b417-4aba-f906-f4800337b2fb"
      },
      "source": [
        "print(ln.shape)"
      ],
      "execution_count": null,
      "outputs": [
        {
          "output_type": "stream",
          "text": [
            "(14,)\n"
          ],
          "name": "stdout"
        }
      ]
    },
    {
      "cell_type": "code",
      "metadata": {
        "id": "6sys1GPKYonl",
        "colab": {
          "base_uri": "https://localhost:8080/",
          "height": 35
        },
        "outputId": "0ce79141-d414-4f99-d719-ed70a4335666"
      },
      "source": [
        "g = pc.model(np.array(ln))\n",
        "print('Likely to get disease' if g == True else 'Worry not. You are perfect:)' )"
      ],
      "execution_count": null,
      "outputs": [
        {
          "output_type": "stream",
          "text": [
            "Worry not. You are perfect:)\n"
          ],
          "name": "stdout"
        }
      ]
    },
    {
      "cell_type": "code",
      "metadata": {
        "id": "uNz9BxjubJoD"
      },
      "source": [
        ""
      ],
      "execution_count": null,
      "outputs": []
    }
  ]
}